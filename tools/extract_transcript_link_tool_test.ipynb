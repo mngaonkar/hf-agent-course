{
 "cells": [
  {
   "cell_type": "code",
   "execution_count": 1,
   "metadata": {},
   "outputs": [],
   "source": [
    "from extract_transcript_link_tool import ExtractTranscriptLinkTool\n",
    "from visit_web_page_tool import VisitWebPageTool\n",
    "from atom_feed_tool import AtomFeedTool\n",
    "from extract_trasnscript_content_tool import ExtractTranscriptContentTool\n",
    "import os, json\n",
    "from langchain_huggingface import HuggingFaceEmbeddings\n",
    "from langchain.docstore.document import Document\n",
    "from langchain.text_splitter import RecursiveCharacterTextSplitter\n",
    "from transformers import AutoTokenizer\n",
    "from langchain_chroma import Chroma"
   ]
  },
  {
   "cell_type": "code",
   "execution_count": 2,
   "metadata": {},
   "outputs": [],
   "source": [
    "embeddings = HuggingFaceEmbeddings(model_name=\"sentence-transformers/all-MiniLM-L6-v2\")"
   ]
  },
  {
   "cell_type": "code",
   "execution_count": 3,
   "metadata": {},
   "outputs": [],
   "source": [
    "text_splitter = RecursiveCharacterTextSplitter.from_huggingface_tokenizer(\n",
    "    AutoTokenizer.from_pretrained(\"thenlper/gte-small\"),\n",
    "    chunk_size=200,\n",
    "    chunk_overlap=20,\n",
    "    add_start_index=True,\n",
    "    strip_whitespace=True,\n",
    "    separators=[\"\\n\\n\", \"\\n\", \".\", \" \", \"\"],\n",
    ")"
   ]
  },
  {
   "cell_type": "code",
   "execution_count": 4,
   "metadata": {},
   "outputs": [],
   "source": [
    "feed_tool = AtomFeedTool()\n",
    "response = feed_tool(\"https://www.thecloudcast.net/feeds/posts/default\")"
   ]
  },
  {
   "cell_type": "code",
   "execution_count": 5,
   "metadata": {},
   "outputs": [
    {
     "name": "stdout",
     "output_type": "stream",
     "text": [
      "no of entries =  25\n",
      "title =  Listen to The Cloudcast\n",
      "link =  https://www.thecloudcast.net/2020/08/listen-to-cloudcast.html\n",
      "browser =  <Browser type=<BrowserType name=chromium executable_path=/Users/mahadevgaonkar/Library/Caches/ms-playwright/chromium-1161/chrome-mac/Chromium.app/Contents/MacOS/Chromium> version=134.0.6998.35>\n",
      "page =  <Page url='about:blank'>\n",
      "page title: The Cloudcast: Listen to The Cloudcast\n",
      "Transcript tag not found.\n",
      "transcript_link =  None\n",
      "title =  AI Augmenting vs. Replacing\n",
      "link =  https://www.thecloudcast.net/2025/04/ai-augmenting-vs-replacing.html\n",
      "browser =  <Browser type=<BrowserType name=chromium executable_path=/Users/mahadevgaonkar/Library/Caches/ms-playwright/chromium-1161/chrome-mac/Chromium.app/Contents/MacOS/Chromium> version=134.0.6998.35>\n",
      "page =  <Page url='about:blank'>\n",
      "page title: The Cloudcast: AI Augmenting vs. Replacing\n",
      "Transcript URL: https://docs.google.com/document/d/1uTt4igQ1F8i-H82E6n2SkVdS9nUGnsvPR1CNr9ft6Ak/edit?usp=sharing\n",
      "transcript_link =  https://docs.google.com/document/d/1uTt4igQ1F8i-H82E6n2SkVdS9nUGnsvPR1CNr9ft6Ak/edit?usp=sharing\n",
      "browser =  <Browser type=<BrowserType name=chromium executable_path=/Users/mahadevgaonkar/Library/Caches/ms-playwright/chromium-1161/chrome-mac/Chromium.app/Contents/MacOS/Chromium> version=134.0.6998.35>\n",
      "page =  <Page url='about:blank'>\n",
      "page title: [TRANSCRIPT] The Cloudcast #916 - AI Augmenting vs. Replacing - Google Docs\n",
      "Match found in the HTML content.\n",
      "Transcript content saved to AI Augmenting vs. Replacing\n",
      "title =  Deep Learning Meets CyberSecurity\n",
      "link =  https://www.thecloudcast.net/2025/04/deep-learning-meets-cybersecurity.html\n"
     ]
    },
    {
     "name": "stderr",
     "output_type": "stream",
     "text": [
      "huggingface/tokenizers: The current process just got forked, after parallelism has already been used. Disabling parallelism to avoid deadlocks...\n",
      "To disable this warning, you can either:\n",
      "\t- Avoid using `tokenizers` before the fork if possible\n",
      "\t- Explicitly set the environment variable TOKENIZERS_PARALLELISM=(true | false)\n"
     ]
    },
    {
     "name": "stdout",
     "output_type": "stream",
     "text": [
      "browser =  <Browser type=<BrowserType name=chromium executable_path=/Users/mahadevgaonkar/Library/Caches/ms-playwright/chromium-1161/chrome-mac/Chromium.app/Contents/MacOS/Chromium> version=134.0.6998.35>\n",
      "page =  <Page url='about:blank'>\n",
      "page title: The Cloudcast: Deep Learning Meets CyberSecurity\n",
      "Transcript tag not found.\n",
      "transcript_link =  None\n",
      "title =  Tempering AI Expectations in the Enterprise\n",
      "link =  https://www.thecloudcast.net/2025/04/tempering-ai-expectations-in-enterprise.html\n"
     ]
    },
    {
     "name": "stderr",
     "output_type": "stream",
     "text": [
      "huggingface/tokenizers: The current process just got forked, after parallelism has already been used. Disabling parallelism to avoid deadlocks...\n",
      "To disable this warning, you can either:\n",
      "\t- Avoid using `tokenizers` before the fork if possible\n",
      "\t- Explicitly set the environment variable TOKENIZERS_PARALLELISM=(true | false)\n"
     ]
    },
    {
     "name": "stdout",
     "output_type": "stream",
     "text": [
      "browser =  <Browser type=<BrowserType name=chromium executable_path=/Users/mahadevgaonkar/Library/Caches/ms-playwright/chromium-1161/chrome-mac/Chromium.app/Contents/MacOS/Chromium> version=134.0.6998.35>\n",
      "page =  <Page url='about:blank'>\n",
      "page title: The Cloudcast: Tempering AI Expectations in the Enterprise\n",
      "Transcript URL: https://docs.google.com/document/d/1p4ZettsIwtpXntYlFhUpYdsoL0Wvmpi61maJVEt1U68/edit?usp=sharing\n",
      "transcript_link =  https://docs.google.com/document/d/1p4ZettsIwtpXntYlFhUpYdsoL0Wvmpi61maJVEt1U68/edit?usp=sharing\n"
     ]
    },
    {
     "name": "stderr",
     "output_type": "stream",
     "text": [
      "huggingface/tokenizers: The current process just got forked, after parallelism has already been used. Disabling parallelism to avoid deadlocks...\n",
      "To disable this warning, you can either:\n",
      "\t- Avoid using `tokenizers` before the fork if possible\n",
      "\t- Explicitly set the environment variable TOKENIZERS_PARALLELISM=(true | false)\n"
     ]
    },
    {
     "name": "stdout",
     "output_type": "stream",
     "text": [
      "browser =  <Browser type=<BrowserType name=chromium executable_path=/Users/mahadevgaonkar/Library/Caches/ms-playwright/chromium-1161/chrome-mac/Chromium.app/Contents/MacOS/Chromium> version=134.0.6998.35>\n",
      "page =  <Page url='about:blank'>\n",
      "page title: [TRANSCRIPT] The Cloudcast #914 - Tempering AI Expectations in the Enterprise - Google Docs\n",
      "Match found in the HTML content.\n",
      "Transcript content saved to Tempering AI Expectations in the Enterprise\n",
      "title =  AI Agents vs. AI Assistants\n",
      "link =  https://www.thecloudcast.net/2025/04/ai-agents-vs-ai-assistants.html\n"
     ]
    },
    {
     "name": "stderr",
     "output_type": "stream",
     "text": [
      "huggingface/tokenizers: The current process just got forked, after parallelism has already been used. Disabling parallelism to avoid deadlocks...\n",
      "To disable this warning, you can either:\n",
      "\t- Avoid using `tokenizers` before the fork if possible\n",
      "\t- Explicitly set the environment variable TOKENIZERS_PARALLELISM=(true | false)\n"
     ]
    },
    {
     "name": "stdout",
     "output_type": "stream",
     "text": [
      "browser =  <Browser type=<BrowserType name=chromium executable_path=/Users/mahadevgaonkar/Library/Caches/ms-playwright/chromium-1161/chrome-mac/Chromium.app/Contents/MacOS/Chromium> version=134.0.6998.35>\n",
      "page =  <Page url='about:blank'>\n",
      "page title: The Cloudcast: AI Agents vs. AI Assistants\n",
      "Transcript tag not found.\n",
      "transcript_link =  None\n",
      "title =  How Things Can Change for the 900lb Gorilla in Tech\n",
      "link =  https://www.thecloudcast.net/2025/04/how-things-can-change-for-900lb-gorilla.html\n"
     ]
    },
    {
     "name": "stderr",
     "output_type": "stream",
     "text": [
      "huggingface/tokenizers: The current process just got forked, after parallelism has already been used. Disabling parallelism to avoid deadlocks...\n",
      "To disable this warning, you can either:\n",
      "\t- Avoid using `tokenizers` before the fork if possible\n",
      "\t- Explicitly set the environment variable TOKENIZERS_PARALLELISM=(true | false)\n"
     ]
    },
    {
     "name": "stdout",
     "output_type": "stream",
     "text": [
      "browser =  <Browser type=<BrowserType name=chromium executable_path=/Users/mahadevgaonkar/Library/Caches/ms-playwright/chromium-1161/chrome-mac/Chromium.app/Contents/MacOS/Chromium> version=134.0.6998.35>\n",
      "page =  <Page url='about:blank'>\n",
      "page title: The Cloudcast: How Things Can Change for the 900lb Gorilla in Tech\n",
      "Transcript URL: https://docs.google.com/document/d/1Qod9uOIBE_LUNBUkwX3l9cBMWUWNMGtzkXQwBR-M9Hc/edit?usp=sharing\n",
      "transcript_link =  https://docs.google.com/document/d/1Qod9uOIBE_LUNBUkwX3l9cBMWUWNMGtzkXQwBR-M9Hc/edit?usp=sharing\n"
     ]
    },
    {
     "name": "stderr",
     "output_type": "stream",
     "text": [
      "huggingface/tokenizers: The current process just got forked, after parallelism has already been used. Disabling parallelism to avoid deadlocks...\n",
      "To disable this warning, you can either:\n",
      "\t- Avoid using `tokenizers` before the fork if possible\n",
      "\t- Explicitly set the environment variable TOKENIZERS_PARALLELISM=(true | false)\n"
     ]
    },
    {
     "name": "stdout",
     "output_type": "stream",
     "text": [
      "browser =  <Browser type=<BrowserType name=chromium executable_path=/Users/mahadevgaonkar/Library/Caches/ms-playwright/chromium-1161/chrome-mac/Chromium.app/Contents/MacOS/Chromium> version=134.0.6998.35>\n",
      "page =  <Page url='about:blank'>\n",
      "page title: [TRANSCRIPT] The Cloudcast #912 - How Things Can Change for the 900lb Gorilla in Tech - Google Docs\n",
      "Match found in the HTML content.\n",
      "Transcript content saved to How Things Can Change for the 900lb Gorilla in Tech\n",
      "title =  AI & Cloud Trends for March 2025\n",
      "link =  https://www.thecloudcast.net/2025/04/ai-cloud-trends-for-march.html\n"
     ]
    },
    {
     "name": "stderr",
     "output_type": "stream",
     "text": [
      "huggingface/tokenizers: The current process just got forked, after parallelism has already been used. Disabling parallelism to avoid deadlocks...\n",
      "To disable this warning, you can either:\n",
      "\t- Avoid using `tokenizers` before the fork if possible\n",
      "\t- Explicitly set the environment variable TOKENIZERS_PARALLELISM=(true | false)\n"
     ]
    },
    {
     "name": "stdout",
     "output_type": "stream",
     "text": [
      "browser =  <Browser type=<BrowserType name=chromium executable_path=/Users/mahadevgaonkar/Library/Caches/ms-playwright/chromium-1161/chrome-mac/Chromium.app/Contents/MacOS/Chromium> version=134.0.6998.35>\n",
      "page =  <Page url='about:blank'>\n",
      "page title: The Cloudcast: AI & Cloud Trends for March 2025\n",
      "Transcript URL: https://docs.google.com/document/d/1UY197iZYzYkrteIFqm-EB_ORt8hhOm5CtX2g5GgQkIA/edit?tab=t.0\n",
      "transcript_link =  https://docs.google.com/document/d/1UY197iZYzYkrteIFqm-EB_ORt8hhOm5CtX2g5GgQkIA/edit?tab=t.0\n"
     ]
    },
    {
     "name": "stderr",
     "output_type": "stream",
     "text": [
      "huggingface/tokenizers: The current process just got forked, after parallelism has already been used. Disabling parallelism to avoid deadlocks...\n",
      "To disable this warning, you can either:\n",
      "\t- Avoid using `tokenizers` before the fork if possible\n",
      "\t- Explicitly set the environment variable TOKENIZERS_PARALLELISM=(true | false)\n"
     ]
    },
    {
     "name": "stdout",
     "output_type": "stream",
     "text": [
      "browser =  <Browser type=<BrowserType name=chromium executable_path=/Users/mahadevgaonkar/Library/Caches/ms-playwright/chromium-1161/chrome-mac/Chromium.app/Contents/MacOS/Chromium> version=134.0.6998.35>\n",
      "page =  <Page url='about:blank'>\n",
      "page title: [TRANSCRIPT] The Cloudcast #911 - AI & Cloud Trends for March - Google Docs\n",
      "Match found in the HTML content.\n",
      "Transcript content saved to AI & Cloud Trends for March 2025\n",
      "title =  That Feeling of Losing Technical Knowledge\n",
      "link =  https://www.thecloudcast.net/2025/03/that-feeling-of-losing-technical.html\n"
     ]
    },
    {
     "name": "stderr",
     "output_type": "stream",
     "text": [
      "huggingface/tokenizers: The current process just got forked, after parallelism has already been used. Disabling parallelism to avoid deadlocks...\n",
      "To disable this warning, you can either:\n",
      "\t- Avoid using `tokenizers` before the fork if possible\n",
      "\t- Explicitly set the environment variable TOKENIZERS_PARALLELISM=(true | false)\n"
     ]
    },
    {
     "name": "stdout",
     "output_type": "stream",
     "text": [
      "browser =  <Browser type=<BrowserType name=chromium executable_path=/Users/mahadevgaonkar/Library/Caches/ms-playwright/chromium-1161/chrome-mac/Chromium.app/Contents/MacOS/Chromium> version=134.0.6998.35>\n",
      "page =  <Page url='about:blank'>\n",
      "page title: The Cloudcast: That Feeling of Losing Technical Knowledge\n",
      "Transcript URL: https://docs.google.com/document/d/1u21XAxB6b0FsYNPX4zzAMpGVWN4cQDGWyosvV6LTnN0/edit?usp=sharing\n",
      "transcript_link =  https://docs.google.com/document/d/1u21XAxB6b0FsYNPX4zzAMpGVWN4cQDGWyosvV6LTnN0/edit?usp=sharing\n"
     ]
    },
    {
     "name": "stderr",
     "output_type": "stream",
     "text": [
      "huggingface/tokenizers: The current process just got forked, after parallelism has already been used. Disabling parallelism to avoid deadlocks...\n",
      "To disable this warning, you can either:\n",
      "\t- Avoid using `tokenizers` before the fork if possible\n",
      "\t- Explicitly set the environment variable TOKENIZERS_PARALLELISM=(true | false)\n"
     ]
    },
    {
     "name": "stdout",
     "output_type": "stream",
     "text": [
      "browser =  <Browser type=<BrowserType name=chromium executable_path=/Users/mahadevgaonkar/Library/Caches/ms-playwright/chromium-1161/chrome-mac/Chromium.app/Contents/MacOS/Chromium> version=134.0.6998.35>\n",
      "page =  <Page url='about:blank'>\n",
      "page title: [TRANSCRIPT] The Cloudcast #910 - That Feeling of Losing Technical Knowledge - Google Docs\n",
      "Match found in the HTML content.\n",
      "Transcript content saved to That Feeling of Losing Technical Knowledge\n",
      "title =  Virtualizing Kubernetes Clusters\n",
      "link =  https://www.thecloudcast.net/2025/03/virtualizing-kubernetes-clusters.html\n"
     ]
    },
    {
     "name": "stderr",
     "output_type": "stream",
     "text": [
      "huggingface/tokenizers: The current process just got forked, after parallelism has already been used. Disabling parallelism to avoid deadlocks...\n",
      "To disable this warning, you can either:\n",
      "\t- Avoid using `tokenizers` before the fork if possible\n",
      "\t- Explicitly set the environment variable TOKENIZERS_PARALLELISM=(true | false)\n"
     ]
    },
    {
     "name": "stdout",
     "output_type": "stream",
     "text": [
      "browser =  <Browser type=<BrowserType name=chromium executable_path=/Users/mahadevgaonkar/Library/Caches/ms-playwright/chromium-1161/chrome-mac/Chromium.app/Contents/MacOS/Chromium> version=134.0.6998.35>\n",
      "page =  <Page url='about:blank'>\n",
      "page title: The Cloudcast: Virtualizing Kubernetes Clusters\n",
      "Transcript URL: https://youtube.com/@TheCloudcastNET\n",
      "transcript_link =  https://youtube.com/@TheCloudcastNET\n"
     ]
    },
    {
     "name": "stderr",
     "output_type": "stream",
     "text": [
      "huggingface/tokenizers: The current process just got forked, after parallelism has already been used. Disabling parallelism to avoid deadlocks...\n",
      "To disable this warning, you can either:\n",
      "\t- Avoid using `tokenizers` before the fork if possible\n",
      "\t- Explicitly set the environment variable TOKENIZERS_PARALLELISM=(true | false)\n"
     ]
    },
    {
     "name": "stdout",
     "output_type": "stream",
     "text": [
      "browser =  <Browser type=<BrowserType name=chromium executable_path=/Users/mahadevgaonkar/Library/Caches/ms-playwright/chromium-1161/chrome-mac/Chromium.app/Contents/MacOS/Chromium> version=134.0.6998.35>\n",
      "page =  <Page url='about:blank'>\n",
      "page title: The Cloudcast - YouTube\n",
      "Match found in the HTML content.\n",
      "Transcript content saved to Virtualizing Kubernetes Clusters\n",
      "title =  Are Acquisitions Making a Comeback?\n",
      "link =  https://www.thecloudcast.net/2025/03/are-acquisitions-making-comeback.html\n"
     ]
    },
    {
     "name": "stderr",
     "output_type": "stream",
     "text": [
      "huggingface/tokenizers: The current process just got forked, after parallelism has already been used. Disabling parallelism to avoid deadlocks...\n",
      "To disable this warning, you can either:\n",
      "\t- Avoid using `tokenizers` before the fork if possible\n",
      "\t- Explicitly set the environment variable TOKENIZERS_PARALLELISM=(true | false)\n"
     ]
    },
    {
     "name": "stdout",
     "output_type": "stream",
     "text": [
      "browser =  <Browser type=<BrowserType name=chromium executable_path=/Users/mahadevgaonkar/Library/Caches/ms-playwright/chromium-1161/chrome-mac/Chromium.app/Contents/MacOS/Chromium> version=134.0.6998.35>\n",
      "page =  <Page url='about:blank'>\n",
      "page title: The Cloudcast: Are Acquisitions Making a Comeback?\n",
      "Transcript URL: https://docs.google.com/document/d/1oezDXwxvf3x7MNgCGboeAO6js0dknkV1tGtLGtx6eAk/edit?usp=sharing\n",
      "transcript_link =  https://docs.google.com/document/d/1oezDXwxvf3x7MNgCGboeAO6js0dknkV1tGtLGtx6eAk/edit?usp=sharing\n"
     ]
    },
    {
     "name": "stderr",
     "output_type": "stream",
     "text": [
      "huggingface/tokenizers: The current process just got forked, after parallelism has already been used. Disabling parallelism to avoid deadlocks...\n",
      "To disable this warning, you can either:\n",
      "\t- Avoid using `tokenizers` before the fork if possible\n",
      "\t- Explicitly set the environment variable TOKENIZERS_PARALLELISM=(true | false)\n"
     ]
    },
    {
     "name": "stdout",
     "output_type": "stream",
     "text": [
      "browser =  <Browser type=<BrowserType name=chromium executable_path=/Users/mahadevgaonkar/Library/Caches/ms-playwright/chromium-1161/chrome-mac/Chromium.app/Contents/MacOS/Chromium> version=134.0.6998.35>\n",
      "page =  <Page url='about:blank'>\n",
      "page title: [TRANSCRIPT] The Cloudcast #908 - Are Acquisitions Making a Comeback? - Google Docs\n",
      "Match found in the HTML content.\n",
      "Transcript content saved to Are Acquisitions Making a Comeback?\n",
      "title =  Migrating from Infrastructure as Code\n",
      "link =  https://www.thecloudcast.net/2025/03/migrating-from-infrastructure-as-code.html\n"
     ]
    },
    {
     "name": "stderr",
     "output_type": "stream",
     "text": [
      "huggingface/tokenizers: The current process just got forked, after parallelism has already been used. Disabling parallelism to avoid deadlocks...\n",
      "To disable this warning, you can either:\n",
      "\t- Avoid using `tokenizers` before the fork if possible\n",
      "\t- Explicitly set the environment variable TOKENIZERS_PARALLELISM=(true | false)\n"
     ]
    },
    {
     "name": "stdout",
     "output_type": "stream",
     "text": [
      "browser =  <Browser type=<BrowserType name=chromium executable_path=/Users/mahadevgaonkar/Library/Caches/ms-playwright/chromium-1161/chrome-mac/Chromium.app/Contents/MacOS/Chromium> version=134.0.6998.35>\n",
      "page =  <Page url='about:blank'>\n",
      "page title: The Cloudcast: Migrating from Infrastructure as Code\n",
      "Transcript URL: https://docs.google.com/document/d/1a3ydUCI4wwJ_f2Jr3JCU3rDGe1oogwzytGKh_45kFiE/edit?usp=sharing\n",
      "transcript_link =  https://docs.google.com/document/d/1a3ydUCI4wwJ_f2Jr3JCU3rDGe1oogwzytGKh_45kFiE/edit?usp=sharing\n"
     ]
    },
    {
     "name": "stderr",
     "output_type": "stream",
     "text": [
      "huggingface/tokenizers: The current process just got forked, after parallelism has already been used. Disabling parallelism to avoid deadlocks...\n",
      "To disable this warning, you can either:\n",
      "\t- Avoid using `tokenizers` before the fork if possible\n",
      "\t- Explicitly set the environment variable TOKENIZERS_PARALLELISM=(true | false)\n"
     ]
    },
    {
     "name": "stdout",
     "output_type": "stream",
     "text": [
      "browser =  <Browser type=<BrowserType name=chromium executable_path=/Users/mahadevgaonkar/Library/Caches/ms-playwright/chromium-1161/chrome-mac/Chromium.app/Contents/MacOS/Chromium> version=134.0.6998.35>\n",
      "page =  <Page url='about:blank'>\n",
      "page title: [TRANSCRIPT] The Cloudcast #911 - AI & Cloud Trends for March - Google Docs\n",
      "Match found in the HTML content.\n",
      "Transcript content saved to Migrating from Infrastructure as Code\n",
      "title =  Decoding Corporate Communications\n",
      "link =  https://www.thecloudcast.net/2025/03/decoding-corporate-communications.html\n"
     ]
    },
    {
     "name": "stderr",
     "output_type": "stream",
     "text": [
      "huggingface/tokenizers: The current process just got forked, after parallelism has already been used. Disabling parallelism to avoid deadlocks...\n",
      "To disable this warning, you can either:\n",
      "\t- Avoid using `tokenizers` before the fork if possible\n",
      "\t- Explicitly set the environment variable TOKENIZERS_PARALLELISM=(true | false)\n"
     ]
    },
    {
     "name": "stdout",
     "output_type": "stream",
     "text": [
      "browser =  <Browser type=<BrowserType name=chromium executable_path=/Users/mahadevgaonkar/Library/Caches/ms-playwright/chromium-1161/chrome-mac/Chromium.app/Contents/MacOS/Chromium> version=134.0.6998.35>\n",
      "page =  <Page url='about:blank'>\n",
      "page title: The Cloudcast: Decoding Corporate Communications\n",
      "Transcript URL: https://docs.google.com/document/d/1qcEEiw0iNV2nKxVObQW4yZ-RaOQEDPMeq1ZoQi93Rck/edit?usp=sharing\n",
      "transcript_link =  https://docs.google.com/document/d/1qcEEiw0iNV2nKxVObQW4yZ-RaOQEDPMeq1ZoQi93Rck/edit?usp=sharing\n"
     ]
    },
    {
     "name": "stderr",
     "output_type": "stream",
     "text": [
      "huggingface/tokenizers: The current process just got forked, after parallelism has already been used. Disabling parallelism to avoid deadlocks...\n",
      "To disable this warning, you can either:\n",
      "\t- Avoid using `tokenizers` before the fork if possible\n",
      "\t- Explicitly set the environment variable TOKENIZERS_PARALLELISM=(true | false)\n"
     ]
    },
    {
     "name": "stdout",
     "output_type": "stream",
     "text": [
      "browser =  <Browser type=<BrowserType name=chromium executable_path=/Users/mahadevgaonkar/Library/Caches/ms-playwright/chromium-1161/chrome-mac/Chromium.app/Contents/MacOS/Chromium> version=134.0.6998.35>\n",
      "page =  <Page url='about:blank'>\n",
      "page title: [TRANSCRIPT] The Cloudcast #906 - Decoding Corporate Communications - Google Docs\n",
      "Match found in the HTML content.\n",
      "Transcript content saved to Decoding Corporate Communications\n",
      "title =  AI Impacts Across Organizations & Startups\n",
      "link =  https://www.thecloudcast.net/2025/03/ai-impacts-across-organizations-startups.html\n"
     ]
    },
    {
     "name": "stderr",
     "output_type": "stream",
     "text": [
      "huggingface/tokenizers: The current process just got forked, after parallelism has already been used. Disabling parallelism to avoid deadlocks...\n",
      "To disable this warning, you can either:\n",
      "\t- Avoid using `tokenizers` before the fork if possible\n",
      "\t- Explicitly set the environment variable TOKENIZERS_PARALLELISM=(true | false)\n"
     ]
    },
    {
     "name": "stdout",
     "output_type": "stream",
     "text": [
      "browser =  <Browser type=<BrowserType name=chromium executable_path=/Users/mahadevgaonkar/Library/Caches/ms-playwright/chromium-1161/chrome-mac/Chromium.app/Contents/MacOS/Chromium> version=134.0.6998.35>\n",
      "page =  <Page url='about:blank'>\n",
      "page title: The Cloudcast: AI Impacts Across Organizations & Startups\n",
      "Transcript URL: https://docs.google.com/document/d/1pN5ASdgkfU9GVona-grgdcxcPPfSHd5vGCVD7EmwaUQ/edit?usp=sharing\n",
      "transcript_link =  https://docs.google.com/document/d/1pN5ASdgkfU9GVona-grgdcxcPPfSHd5vGCVD7EmwaUQ/edit?usp=sharing\n"
     ]
    },
    {
     "name": "stderr",
     "output_type": "stream",
     "text": [
      "huggingface/tokenizers: The current process just got forked, after parallelism has already been used. Disabling parallelism to avoid deadlocks...\n",
      "To disable this warning, you can either:\n",
      "\t- Avoid using `tokenizers` before the fork if possible\n",
      "\t- Explicitly set the environment variable TOKENIZERS_PARALLELISM=(true | false)\n"
     ]
    },
    {
     "name": "stdout",
     "output_type": "stream",
     "text": [
      "browser =  <Browser type=<BrowserType name=chromium executable_path=/Users/mahadevgaonkar/Library/Caches/ms-playwright/chromium-1161/chrome-mac/Chromium.app/Contents/MacOS/Chromium> version=134.0.6998.35>\n",
      "page =  <Page url='about:blank'>\n",
      "page title: [TRANSCRIPT] The Cloudcast #905 - AI Impacts Across Organizations & Startups - Google Docs\n",
      "Match found in the HTML content.\n",
      "Transcript content saved to AI Impacts Across Organizations & Startups\n",
      "title =  Five Things I Did This Week\n",
      "link =  https://www.thecloudcast.net/2025/03/five-things-i-did-this-week.html\n"
     ]
    },
    {
     "name": "stderr",
     "output_type": "stream",
     "text": [
      "huggingface/tokenizers: The current process just got forked, after parallelism has already been used. Disabling parallelism to avoid deadlocks...\n",
      "To disable this warning, you can either:\n",
      "\t- Avoid using `tokenizers` before the fork if possible\n",
      "\t- Explicitly set the environment variable TOKENIZERS_PARALLELISM=(true | false)\n"
     ]
    },
    {
     "name": "stdout",
     "output_type": "stream",
     "text": [
      "browser =  <Browser type=<BrowserType name=chromium executable_path=/Users/mahadevgaonkar/Library/Caches/ms-playwright/chromium-1161/chrome-mac/Chromium.app/Contents/MacOS/Chromium> version=134.0.6998.35>\n",
      "page =  <Page url='about:blank'>\n",
      "page title: The Cloudcast: Five Things I Did This Week\n",
      "Transcript URL: https://docs.google.com/document/d/1ZDwh8yKoZqsnFkeuVHi_QkR7YZASA1E4kRcLoKRBSmE/edit?usp=sharing\n",
      "transcript_link =  https://docs.google.com/document/d/1ZDwh8yKoZqsnFkeuVHi_QkR7YZASA1E4kRcLoKRBSmE/edit?usp=sharing\n"
     ]
    },
    {
     "name": "stderr",
     "output_type": "stream",
     "text": [
      "huggingface/tokenizers: The current process just got forked, after parallelism has already been used. Disabling parallelism to avoid deadlocks...\n",
      "To disable this warning, you can either:\n",
      "\t- Avoid using `tokenizers` before the fork if possible\n",
      "\t- Explicitly set the environment variable TOKENIZERS_PARALLELISM=(true | false)\n"
     ]
    },
    {
     "name": "stdout",
     "output_type": "stream",
     "text": [
      "browser =  <Browser type=<BrowserType name=chromium executable_path=/Users/mahadevgaonkar/Library/Caches/ms-playwright/chromium-1161/chrome-mac/Chromium.app/Contents/MacOS/Chromium> version=134.0.6998.35>\n",
      "page =  <Page url='about:blank'>\n",
      "page title: [TRANSCRIPT] The Cloudcast #904 - 5 Things I Did This Week - Google Docs\n",
      "Match found in the HTML content.\n",
      "Transcript content saved to Five Things I Did This Week\n",
      "title =  Cloud & AI News Trends for February 2025\n",
      "link =  https://www.thecloudcast.net/2025/03/cloud-ai-news-trends-for-february-2025.html\n"
     ]
    },
    {
     "name": "stderr",
     "output_type": "stream",
     "text": [
      "huggingface/tokenizers: The current process just got forked, after parallelism has already been used. Disabling parallelism to avoid deadlocks...\n",
      "To disable this warning, you can either:\n",
      "\t- Avoid using `tokenizers` before the fork if possible\n",
      "\t- Explicitly set the environment variable TOKENIZERS_PARALLELISM=(true | false)\n"
     ]
    },
    {
     "name": "stdout",
     "output_type": "stream",
     "text": [
      "browser =  <Browser type=<BrowserType name=chromium executable_path=/Users/mahadevgaonkar/Library/Caches/ms-playwright/chromium-1161/chrome-mac/Chromium.app/Contents/MacOS/Chromium> version=134.0.6998.35>\n",
      "page =  <Page url='about:blank'>\n",
      "page title: The Cloudcast: Cloud & AI News Trends for February 2025\n",
      "Transcript tag not found.\n",
      "transcript_link =  None\n",
      "title =  Bathing in the Confusion around GenAI\n",
      "link =  https://www.thecloudcast.net/2025/03/bathing-in-confusion-around-genai.html\n"
     ]
    },
    {
     "name": "stderr",
     "output_type": "stream",
     "text": [
      "huggingface/tokenizers: The current process just got forked, after parallelism has already been used. Disabling parallelism to avoid deadlocks...\n",
      "To disable this warning, you can either:\n",
      "\t- Avoid using `tokenizers` before the fork if possible\n",
      "\t- Explicitly set the environment variable TOKENIZERS_PARALLELISM=(true | false)\n"
     ]
    },
    {
     "name": "stdout",
     "output_type": "stream",
     "text": [
      "browser =  <Browser type=<BrowserType name=chromium executable_path=/Users/mahadevgaonkar/Library/Caches/ms-playwright/chromium-1161/chrome-mac/Chromium.app/Contents/MacOS/Chromium> version=134.0.6998.35>\n",
      "page =  <Page url='about:blank'>\n",
      "page title: The Cloudcast: Bathing in the Confusion around GenAI\n",
      "Transcript URL: https://docs.google.com/document/d/1StsmMw28qldpGVbWycPy_AOb8bZ72SS7Z2koi4VJgvY/edit?usp=sharing\n",
      "transcript_link =  https://docs.google.com/document/d/1StsmMw28qldpGVbWycPy_AOb8bZ72SS7Z2koi4VJgvY/edit?usp=sharing\n"
     ]
    },
    {
     "name": "stderr",
     "output_type": "stream",
     "text": [
      "huggingface/tokenizers: The current process just got forked, after parallelism has already been used. Disabling parallelism to avoid deadlocks...\n",
      "To disable this warning, you can either:\n",
      "\t- Avoid using `tokenizers` before the fork if possible\n",
      "\t- Explicitly set the environment variable TOKENIZERS_PARALLELISM=(true | false)\n"
     ]
    },
    {
     "name": "stdout",
     "output_type": "stream",
     "text": [
      "browser =  <Browser type=<BrowserType name=chromium executable_path=/Users/mahadevgaonkar/Library/Caches/ms-playwright/chromium-1161/chrome-mac/Chromium.app/Contents/MacOS/Chromium> version=134.0.6998.35>\n",
      "page =  <Page url='about:blank'>\n",
      "page title: [TRANSCRIPT] The Cloudcast #902 - Bathing in the Confusion around GenAI - Google Docs\n",
      "Match found in the HTML content.\n",
      "Transcript content saved to Bathing in the Confusion around GenAI\n",
      "title =  Developer Assitance with Coding Co-Pilots\n",
      "link =  https://www.thecloudcast.net/2025/02/coding-co-pilots.html\n"
     ]
    },
    {
     "name": "stderr",
     "output_type": "stream",
     "text": [
      "huggingface/tokenizers: The current process just got forked, after parallelism has already been used. Disabling parallelism to avoid deadlocks...\n",
      "To disable this warning, you can either:\n",
      "\t- Avoid using `tokenizers` before the fork if possible\n",
      "\t- Explicitly set the environment variable TOKENIZERS_PARALLELISM=(true | false)\n"
     ]
    },
    {
     "name": "stdout",
     "output_type": "stream",
     "text": [
      "browser =  <Browser type=<BrowserType name=chromium executable_path=/Users/mahadevgaonkar/Library/Caches/ms-playwright/chromium-1161/chrome-mac/Chromium.app/Contents/MacOS/Chromium> version=134.0.6998.35>\n",
      "page =  <Page url='about:blank'>\n",
      "page title: The Cloudcast: Developer Assitance with Coding Co-Pilots\n",
      "Transcript tag not found.\n",
      "transcript_link =  None\n",
      "title =  What is your industry's DeepSeek moment?\n",
      "link =  https://www.thecloudcast.net/2025/02/what-is-your-industrys-deepseek-moment.html\n"
     ]
    },
    {
     "name": "stderr",
     "output_type": "stream",
     "text": [
      "huggingface/tokenizers: The current process just got forked, after parallelism has already been used. Disabling parallelism to avoid deadlocks...\n",
      "To disable this warning, you can either:\n",
      "\t- Avoid using `tokenizers` before the fork if possible\n",
      "\t- Explicitly set the environment variable TOKENIZERS_PARALLELISM=(true | false)\n"
     ]
    },
    {
     "name": "stdout",
     "output_type": "stream",
     "text": [
      "browser =  <Browser type=<BrowserType name=chromium executable_path=/Users/mahadevgaonkar/Library/Caches/ms-playwright/chromium-1161/chrome-mac/Chromium.app/Contents/MacOS/Chromium> version=134.0.6998.35>\n",
      "page =  <Page url='about:blank'>\n",
      "page title: The Cloudcast: What is your industry's DeepSeek moment?\n",
      "Transcript URL: https://docs.google.com/document/d/11if-lysqH23-iRtGyx2jZW17R433vdoe58pLPi1SgR4/edit?usp=sharing\n",
      "transcript_link =  https://docs.google.com/document/d/11if-lysqH23-iRtGyx2jZW17R433vdoe58pLPi1SgR4/edit?usp=sharing\n"
     ]
    },
    {
     "name": "stderr",
     "output_type": "stream",
     "text": [
      "huggingface/tokenizers: The current process just got forked, after parallelism has already been used. Disabling parallelism to avoid deadlocks...\n",
      "To disable this warning, you can either:\n",
      "\t- Avoid using `tokenizers` before the fork if possible\n",
      "\t- Explicitly set the environment variable TOKENIZERS_PARALLELISM=(true | false)\n"
     ]
    },
    {
     "name": "stdout",
     "output_type": "stream",
     "text": [
      "browser =  <Browser type=<BrowserType name=chromium executable_path=/Users/mahadevgaonkar/Library/Caches/ms-playwright/chromium-1161/chrome-mac/Chromium.app/Contents/MacOS/Chromium> version=134.0.6998.35>\n",
      "page =  <Page url='about:blank'>\n",
      "page title: [TRANSCRIPT] The Cloudcast #900 - What is your industry's Deepseek moment? - Google Docs\n",
      "Match found in the HTML content.\n",
      "Transcript content saved to What is your industry's DeepSeek moment?\n",
      "title =  VMware Migrations\n",
      "link =  https://www.thecloudcast.net/2025/02/vmware-migrations.html\n"
     ]
    },
    {
     "name": "stderr",
     "output_type": "stream",
     "text": [
      "huggingface/tokenizers: The current process just got forked, after parallelism has already been used. Disabling parallelism to avoid deadlocks...\n",
      "To disable this warning, you can either:\n",
      "\t- Avoid using `tokenizers` before the fork if possible\n",
      "\t- Explicitly set the environment variable TOKENIZERS_PARALLELISM=(true | false)\n"
     ]
    },
    {
     "name": "stdout",
     "output_type": "stream",
     "text": [
      "browser =  <Browser type=<BrowserType name=chromium executable_path=/Users/mahadevgaonkar/Library/Caches/ms-playwright/chromium-1161/chrome-mac/Chromium.app/Contents/MacOS/Chromium> version=134.0.6998.35>\n",
      "page =  <Page url='about:blank'>\n",
      "page title: The Cloudcast: VMware Migrations\n",
      "Transcript tag not found.\n",
      "transcript_link =  None\n",
      "title =  How will AI impact your IT budget?\n",
      "link =  https://www.thecloudcast.net/2025/02/how-will-ai-impact-your-it-budget.html\n"
     ]
    },
    {
     "name": "stderr",
     "output_type": "stream",
     "text": [
      "huggingface/tokenizers: The current process just got forked, after parallelism has already been used. Disabling parallelism to avoid deadlocks...\n",
      "To disable this warning, you can either:\n",
      "\t- Avoid using `tokenizers` before the fork if possible\n",
      "\t- Explicitly set the environment variable TOKENIZERS_PARALLELISM=(true | false)\n"
     ]
    },
    {
     "name": "stdout",
     "output_type": "stream",
     "text": [
      "browser =  <Browser type=<BrowserType name=chromium executable_path=/Users/mahadevgaonkar/Library/Caches/ms-playwright/chromium-1161/chrome-mac/Chromium.app/Contents/MacOS/Chromium> version=134.0.6998.35>\n",
      "page =  <Page url='about:blank'>\n",
      "page title: The Cloudcast: How will AI impact your IT budget?\n",
      "Transcript URL: https://docs.google.com/document/d/16JBDoLwQ_hwuExN9SUcel76dKhqoUPyUCp8AqsGketI/edit?usp=sharing\n",
      "transcript_link =  https://docs.google.com/document/d/16JBDoLwQ_hwuExN9SUcel76dKhqoUPyUCp8AqsGketI/edit?usp=sharing\n"
     ]
    },
    {
     "name": "stderr",
     "output_type": "stream",
     "text": [
      "huggingface/tokenizers: The current process just got forked, after parallelism has already been used. Disabling parallelism to avoid deadlocks...\n",
      "To disable this warning, you can either:\n",
      "\t- Avoid using `tokenizers` before the fork if possible\n",
      "\t- Explicitly set the environment variable TOKENIZERS_PARALLELISM=(true | false)\n"
     ]
    },
    {
     "name": "stdout",
     "output_type": "stream",
     "text": [
      "browser =  <Browser type=<BrowserType name=chromium executable_path=/Users/mahadevgaonkar/Library/Caches/ms-playwright/chromium-1161/chrome-mac/Chromium.app/Contents/MacOS/Chromium> version=134.0.6998.35>\n",
      "page =  <Page url='about:blank'>\n",
      "page title: [TRANSCRIPT] The Cloudcast #898 - How wil AI impact your IT budget? - Google Docs\n",
      "Match found in the HTML content.\n",
      "Transcript content saved to How will AI impact your IT budget?\n",
      "title =  The Path to Tech Executive Roles\n",
      "link =  https://www.thecloudcast.net/2025/02/the-path-to-tech-executive.html\n"
     ]
    },
    {
     "name": "stderr",
     "output_type": "stream",
     "text": [
      "huggingface/tokenizers: The current process just got forked, after parallelism has already been used. Disabling parallelism to avoid deadlocks...\n",
      "To disable this warning, you can either:\n",
      "\t- Avoid using `tokenizers` before the fork if possible\n",
      "\t- Explicitly set the environment variable TOKENIZERS_PARALLELISM=(true | false)\n"
     ]
    },
    {
     "name": "stdout",
     "output_type": "stream",
     "text": [
      "browser =  <Browser type=<BrowserType name=chromium executable_path=/Users/mahadevgaonkar/Library/Caches/ms-playwright/chromium-1161/chrome-mac/Chromium.app/Contents/MacOS/Chromium> version=134.0.6998.35>\n",
      "page =  <Page url='about:blank'>\n",
      "page title: The Cloudcast: The Path to Tech Executive Roles\n",
      "Transcript tag not found.\n",
      "transcript_link =  None\n",
      "title =  Welcome to the Bi-Modal Cloud Era\n",
      "link =  https://www.thecloudcast.net/2025/02/welcome-to-bi-modal-cloud-era.html\n"
     ]
    },
    {
     "name": "stderr",
     "output_type": "stream",
     "text": [
      "huggingface/tokenizers: The current process just got forked, after parallelism has already been used. Disabling parallelism to avoid deadlocks...\n",
      "To disable this warning, you can either:\n",
      "\t- Avoid using `tokenizers` before the fork if possible\n",
      "\t- Explicitly set the environment variable TOKENIZERS_PARALLELISM=(true | false)\n"
     ]
    },
    {
     "name": "stdout",
     "output_type": "stream",
     "text": [
      "browser =  <Browser type=<BrowserType name=chromium executable_path=/Users/mahadevgaonkar/Library/Caches/ms-playwright/chromium-1161/chrome-mac/Chromium.app/Contents/MacOS/Chromium> version=134.0.6998.35>\n",
      "page =  <Page url='about:blank'>\n",
      "page title: The Cloudcast: Welcome to the Bi-Modal Cloud Era\n",
      "Transcript URL: https://docs.google.com/document/d/15D3SiWUYuPMyqsochx3I91ZPruyo0zFQdM260iVzB0E/edit?usp=sharing\n",
      "transcript_link =  https://docs.google.com/document/d/15D3SiWUYuPMyqsochx3I91ZPruyo0zFQdM260iVzB0E/edit?usp=sharing\n"
     ]
    },
    {
     "name": "stderr",
     "output_type": "stream",
     "text": [
      "huggingface/tokenizers: The current process just got forked, after parallelism has already been used. Disabling parallelism to avoid deadlocks...\n",
      "To disable this warning, you can either:\n",
      "\t- Avoid using `tokenizers` before the fork if possible\n",
      "\t- Explicitly set the environment variable TOKENIZERS_PARALLELISM=(true | false)\n"
     ]
    },
    {
     "name": "stdout",
     "output_type": "stream",
     "text": [
      "browser =  <Browser type=<BrowserType name=chromium executable_path=/Users/mahadevgaonkar/Library/Caches/ms-playwright/chromium-1161/chrome-mac/Chromium.app/Contents/MacOS/Chromium> version=134.0.6998.35>\n",
      "page =  <Page url='about:blank'>\n",
      "page title: [TRANSCRIPT] The Cloudcast #896 - Welcome to the Bi-Modal Cloud Era - Google Docs\n",
      "Match found in the HTML content.\n",
      "Transcript content saved to Welcome to the Bi-Modal Cloud Era\n",
      "title =  Cloud & AI News of the Month - January 2025\n",
      "link =  https://www.thecloudcast.net/2025/02/the-cloudcast-895-cloud-news-of-month.html\n"
     ]
    },
    {
     "name": "stderr",
     "output_type": "stream",
     "text": [
      "huggingface/tokenizers: The current process just got forked, after parallelism has already been used. Disabling parallelism to avoid deadlocks...\n",
      "To disable this warning, you can either:\n",
      "\t- Avoid using `tokenizers` before the fork if possible\n",
      "\t- Explicitly set the environment variable TOKENIZERS_PARALLELISM=(true | false)\n"
     ]
    },
    {
     "name": "stdout",
     "output_type": "stream",
     "text": [
      "browser =  <Browser type=<BrowserType name=chromium executable_path=/Users/mahadevgaonkar/Library/Caches/ms-playwright/chromium-1161/chrome-mac/Chromium.app/Contents/MacOS/Chromium> version=134.0.6998.35>\n",
      "page =  <Page url='about:blank'>\n",
      "page title: The Cloudcast: Cloud & AI News of the Month - January 2025\n",
      "Transcript tag not found.\n",
      "transcript_link =  None\n",
      "title =  Shut up and write code!\n",
      "link =  https://www.thecloudcast.net/2025/02/shut-up-and-write-code.html\n"
     ]
    },
    {
     "name": "stderr",
     "output_type": "stream",
     "text": [
      "huggingface/tokenizers: The current process just got forked, after parallelism has already been used. Disabling parallelism to avoid deadlocks...\n",
      "To disable this warning, you can either:\n",
      "\t- Avoid using `tokenizers` before the fork if possible\n",
      "\t- Explicitly set the environment variable TOKENIZERS_PARALLELISM=(true | false)\n"
     ]
    },
    {
     "name": "stdout",
     "output_type": "stream",
     "text": [
      "browser =  <Browser type=<BrowserType name=chromium executable_path=/Users/mahadevgaonkar/Library/Caches/ms-playwright/chromium-1161/chrome-mac/Chromium.app/Contents/MacOS/Chromium> version=134.0.6998.35>\n",
      "page =  <Page url='about:blank'>\n",
      "page title: The Cloudcast: Shut up and write code!\n",
      "Transcript URL: https://docs.google.com/document/d/1a3zLITAZMdIhMUNWDu7xr-EKc8aYSJ5OY-q2Z0oOkZs/edit?usp=sharing\n",
      "transcript_link =  https://docs.google.com/document/d/1a3zLITAZMdIhMUNWDu7xr-EKc8aYSJ5OY-q2Z0oOkZs/edit?usp=sharing\n"
     ]
    },
    {
     "name": "stderr",
     "output_type": "stream",
     "text": [
      "huggingface/tokenizers: The current process just got forked, after parallelism has already been used. Disabling parallelism to avoid deadlocks...\n",
      "To disable this warning, you can either:\n",
      "\t- Avoid using `tokenizers` before the fork if possible\n",
      "\t- Explicitly set the environment variable TOKENIZERS_PARALLELISM=(true | false)\n"
     ]
    },
    {
     "name": "stdout",
     "output_type": "stream",
     "text": [
      "browser =  <Browser type=<BrowserType name=chromium executable_path=/Users/mahadevgaonkar/Library/Caches/ms-playwright/chromium-1161/chrome-mac/Chromium.app/Contents/MacOS/Chromium> version=134.0.6998.35>\n",
      "page =  <Page url='about:blank'>\n",
      "page title: [TRANSCRIPT] The Cloudcast #894 - Shut up and write code! - Google Docs\n",
      "Match found in the HTML content.\n",
      "Transcript content saved to Shut up and write code!\n",
      "title =  Modernizing Video Production with AI\n",
      "link =  https://www.thecloudcast.net/2025/01/modernizing-video-production-with-ai.html\n"
     ]
    },
    {
     "name": "stderr",
     "output_type": "stream",
     "text": [
      "huggingface/tokenizers: The current process just got forked, after parallelism has already been used. Disabling parallelism to avoid deadlocks...\n",
      "To disable this warning, you can either:\n",
      "\t- Avoid using `tokenizers` before the fork if possible\n",
      "\t- Explicitly set the environment variable TOKENIZERS_PARALLELISM=(true | false)\n"
     ]
    },
    {
     "name": "stdout",
     "output_type": "stream",
     "text": [
      "browser =  <Browser type=<BrowserType name=chromium executable_path=/Users/mahadevgaonkar/Library/Caches/ms-playwright/chromium-1161/chrome-mac/Chromium.app/Contents/MacOS/Chromium> version=134.0.6998.35>\n",
      "page =  <Page url='about:blank'>\n",
      "page title: The Cloudcast: Modernizing Video Production with AI\n",
      "Transcript URL: https://docs.google.com/document/d/1N5QKXcJclRCwKPKW4sProy67Xxby2_euKaoEbT8nS4A/edit?usp=sharing\n",
      "transcript_link =  https://docs.google.com/document/d/1N5QKXcJclRCwKPKW4sProy67Xxby2_euKaoEbT8nS4A/edit?usp=sharing\n"
     ]
    },
    {
     "name": "stderr",
     "output_type": "stream",
     "text": [
      "huggingface/tokenizers: The current process just got forked, after parallelism has already been used. Disabling parallelism to avoid deadlocks...\n",
      "To disable this warning, you can either:\n",
      "\t- Avoid using `tokenizers` before the fork if possible\n",
      "\t- Explicitly set the environment variable TOKENIZERS_PARALLELISM=(true | false)\n"
     ]
    },
    {
     "name": "stdout",
     "output_type": "stream",
     "text": [
      "browser =  <Browser type=<BrowserType name=chromium executable_path=/Users/mahadevgaonkar/Library/Caches/ms-playwright/chromium-1161/chrome-mac/Chromium.app/Contents/MacOS/Chromium> version=134.0.6998.35>\n",
      "page =  <Page url='about:blank'>\n",
      "page title: [TRANSCRIPT] The Cloudcast #893 - Modernizing Video Production with AI - Google Docs\n",
      "Match found in the HTML content.\n",
      "Transcript content saved to Modernizing Video Production with AI\n"
     ]
    }
   ],
   "source": [
    "print(\"no of entries = \", len(response))\n",
    "\n",
    "docs_processed = []\n",
    "\n",
    "for entry in response:\n",
    "    print(\"title = \", entry.title)\n",
    "    print(\"link = \", entry.link)\n",
    "    content = await VisitWebPageTool()(url=entry.link, clean_flag=False)\n",
    "    transcript_link = ExtractTranscriptLinkTool()(content)\n",
    "    print(\"transcript_link = \", transcript_link)\n",
    "    if transcript_link is not None:\n",
    "        transcript = await VisitWebPageTool()(url=transcript_link, clean_flag=True)\n",
    "        transcript_content = ExtractTranscriptContentTool()(transcript)\n",
    "        with open(os.path.join(\"transcripts\", entry.title), \"w\") as f:\n",
    "            f.write(transcript_content)\n",
    "            print(f\"Transcript content saved to {entry.title}\")\n",
    "\n",
    "        # Split the transcript content into chunks\n",
    "        payload = {\"title\": entry.title, \"link\": entry.link, \"content\": transcript_content}\n",
    "        documents = text_splitter.split_text(json.dumps(payload))\n",
    "\n",
    "        # Create Document objects\n",
    "        docs = [Document(page_content=doc) for doc in documents]\n",
    "        docs_processed = docs_processed + docs\n",
    "\n",
    "vector_store = Chroma.from_documents(docs_processed, embeddings, persist_directory=\"./chroma_db\")"
   ]
  },
  {
   "cell_type": "code",
   "execution_count": null,
   "metadata": {},
   "outputs": [],
   "source": []
  }
 ],
 "metadata": {
  "kernelspec": {
   "display_name": "berkeley_ai",
   "language": "python",
   "name": "berkeley_ai"
  },
  "language_info": {
   "codemirror_mode": {
    "name": "ipython",
    "version": 3
   },
   "file_extension": ".py",
   "mimetype": "text/x-python",
   "name": "python",
   "nbconvert_exporter": "python",
   "pygments_lexer": "ipython3",
   "version": "3.10.16"
  }
 },
 "nbformat": 4,
 "nbformat_minor": 2
}
