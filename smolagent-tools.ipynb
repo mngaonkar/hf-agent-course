{
 "cells": [
  {
   "cell_type": "code",
   "execution_count": 17,
   "metadata": {},
   "outputs": [],
   "source": [
    "from smolagents import DuckDuckGoSearchTool\n"
   ]
  },
  {
   "cell_type": "code",
   "execution_count": 18,
   "metadata": {},
   "outputs": [],
   "source": [
    "search_tool = DuckDuckGoSearchTool()"
   ]
  },
  {
   "cell_type": "code",
   "execution_count": 19,
   "metadata": {},
   "outputs": [],
   "source": [
    "response = search_tool(\"best pamela andersone movies\")"
   ]
  },
  {
   "cell_type": "code",
   "execution_count": 16,
   "metadata": {},
   "outputs": [
    {
     "name": "stdout",
     "output_type": "stream",
     "text": [
      "## Search Results\n",
      "\n",
      "[The 10 Best Pamela Anderson Movies and TV Shows, Ranked - Collider](https://collider.com/pamela-anderson-movies-tv-shows-best-ranked/)\n",
      "Starring Anderson and David Keith, Raw Justice is an action thriller following an ex-convict, marked as the main suspect in a murderer, who is secretly followed by ex-cop Mace.He learns ...\n",
      "\n",
      "[10 Best Pamela Anderson Movies and TV Shows - The Cinemaholic](https://thecinemaholic.com/pamela-anderson-movies-and-tv-shows/)\n",
      "7. Scary Movie 3. Scary Movie 3 is the highest grossing Pamel Anderson movie. Made on budget of $45 Million, it went to collect a whooping $220 Million, making it huge box-office success. The movie's plot was a parody of many blockbusters like The Ring, The Matrix series. Pamela Anderson played the role of Becca, in this teen drama.\n",
      "\n",
      "[These Are Pamela Anderson's Best Performances, Ranked - MovieWeb](https://movieweb.com/best-pamela-anderson-performances/)\n",
      "First discovered at a football game in the late 1980s, Pamela Anderson began her career in the modeling industry. After moving to Los Angeles, she landed her first television debut on the hit ...\n",
      "\n",
      "[The Best Movies Starring Pamela Anderson - Flickchart](https://www.flickchart.com/Charts.aspx?actor=Pamela+Anderson)\n",
      "The Top 10 Movies Starring Pamela Anderson; The Best Horror Movies Of the 1980s; The Best Science Fiction Movies of 1977; The Best Comedy Movies Of the 2000s; The Most Recently Released Movies; The Most Recently Added Movies; Movies by Decade from this Chart. 2020s 3; 2010s 3; 2000s 3; 1990s 7; 1980s 1;\n",
      "\n",
      "[The Top 10 Movies Starring Pamela Anderson - Flickchart](https://www.flickchart.com/Charts.aspx?actor=Pamela+Anderson&perpage=10)\n",
      "Here are a few examples of ways you can filter the charts: The Top 10 Movies Starring Pamela Anderson; The Best Horror Movies Of the 1980s; The Best Science Fiction Movies of 1977\n",
      "\n",
      "[21 Pamela Anderson Movies & TV Shows, Ranked Best to Worst](https://www.throughtheclutter.com/pamela-anderson-3364.php)\n",
      "List of Pamela Anderson Movies: Ranked Best To Worst. 1. Nicky Larson et le parfum de Cupidon (2019) 10. 5. 10. 5. Role: Jessica Fox. Starring: Didier Bourdon, Élodie Fontan, Philippe Lacheau, Tarek Boudali. Directed By: Philippe Lacheau. 2. Scary Movie 3 (2003) 28. 23. PG-13. 28. 23. In this satirical movie, news reporter Cindy Campbell ...\n",
      "\n",
      "[Top 10 Pamela Anderson Movies (Unfinished) - IMDb](https://www.imdb.com/list/ls547335718/)\n",
      "Top 10 Pamela Anderson Movies . Menu. Movies. Release Calendar Top 250 Movies Most Popular Movies Browse Movies by Genre Top Box Office Showtimes & Tickets Movie News India Movie Spotlight. ... Director David Hogan Stars Pamela Anderson Amir AboulEla Adriana Alexander. 3/10. 7. Naked Souls. 1996 1h 25m R.\n",
      "\n",
      "[10 Best Pamela Anderson Movies and TV Shows, Ranked](https://us.headtopics.com/news/10-best-pamela-anderson-movies-and-tv-shows-ranked-64891229)\n",
      "Pamela Anderson Says Award Recognition for Last Showgirl Is 'Best Payback' After 'Hurtful' Pam & Tommy SeriesPamela Anderson said she feels her award recognition for the new film 'The Last Showgirl' is 'the best payback' after she described feeling hurt by Hulu's 2022 series 'Pam & Tommy,' which dramatized her life in the 1990s. Read more »\n",
      "\n",
      "[7 Pamela Anderson Movies and TV Shows to Add to Your Watchlist](https://www.trstdly.com/article/7-pamela-anderson-movies-and-tv-shows-to-add-to-your-watchlist-324102-mvk.html)\n",
      "If you want to explore her work, here are some of her best Pamela Anderson movies and TV shows to add to your watchlist. 1. Baywatch (1989-1999) Pamela Anderson in Baywatch (1989). (Photo: IMDb) Where to Watch: Amazon Prime Video, Peacock Premium, The Roku Channel. Baywatch is a TV series about lifeguards who work on the beaches of Los Angeles.\n",
      "\n",
      "[Pamela Anderson Movies & TV Shows List | Rotten Tomatoes](https://www.rottentomatoes.com/celebrity/pamela_anderson)\n",
      "Pamela Anderson was a Canadian-American model, actress and animal rights activist who was best known for her roles on the TV shows \"Home Improvement\" (ABC, 1991-99), \"Baywatch\" (NBC/Syndication ...\n"
     ]
    }
   ],
   "source": [
    "print(response)"
   ]
  },
  {
   "cell_type": "code",
   "execution_count": null,
   "metadata": {},
   "outputs": [],
   "source": []
  }
 ],
 "metadata": {
  "kernelspec": {
   "display_name": "berkeley_ai",
   "language": "python",
   "name": "berkeley_ai"
  },
  "language_info": {
   "codemirror_mode": {
    "name": "ipython",
    "version": 3
   },
   "file_extension": ".py",
   "mimetype": "text/x-python",
   "name": "python",
   "nbconvert_exporter": "python",
   "pygments_lexer": "ipython3",
   "version": "3.10.16"
  }
 },
 "nbformat": 4,
 "nbformat_minor": 2
}
